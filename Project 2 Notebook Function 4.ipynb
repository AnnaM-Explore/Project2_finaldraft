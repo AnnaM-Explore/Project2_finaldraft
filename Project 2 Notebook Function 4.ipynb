{
 "cells": [
  {
   "cell_type": "code",
   "execution_count": 1,
   "metadata": {},
   "outputs": [
    {
     "name": "stdout",
     "output_type": "stream",
     "text": [
      "                                Tweets       date       municipality  \\\n",
      "0  @CityofCTAlerts #OMG #BBQ hi hi @me      today  [@CityofCTAlerts]   \n",
      "1           @CityofCTAlerts hi hi @you  yesterday  [@CityofCTAlerts]   \n",
      "2                      hi hi @us lol!!  last week                NaN   \n",
      "\n",
      "       hashtags  \n",
      "0  [#omg, #bbq]  \n",
      "1           NaN  \n",
      "2           NaN  \n"
     ]
    }
   ],
   "source": [
    "import extract_municipality_hashtags as emh\n",
    "import io, pandas\n",
    "\n",
    "csv = io.StringIO('''\\\n",
    "Tweets,date\n",
    "\"@CityofCTAlerts #OMG #BBQ hi hi @me\",today\n",
    "\"@CityofCTAlerts hi hi @you\",yesterday\n",
    "\"hi hi @us lol!!\",last week\\\n",
    "''')\n",
    "\n",
    "df = pandas.read_csv(csv)\n",
    "print(emh.extract_municipality_hashtags(df))"
   ]
  }
 ],
 "metadata": {
  "kernelspec": {
   "display_name": "Python 3",
   "language": "python",
   "name": "python3"
  },
  "language_info": {
   "codemirror_mode": {
    "name": "ipython",
    "version": 3
   },
   "file_extension": ".py",
   "mimetype": "text/x-python",
   "name": "python",
   "nbconvert_exporter": "python",
   "pygments_lexer": "ipython3",
   "version": "3.7.4"
  }
 },
 "nbformat": 4,
 "nbformat_minor": 2
}
